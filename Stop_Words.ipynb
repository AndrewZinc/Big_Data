{
  "nbformat": 4,
  "nbformat_minor": 0,
  "metadata": {
    "colab": {
      "provenance": [],
      "authorship_tag": "ABX9TyMHIyKCigOW8INMouKsHNJP",
      "include_colab_link": true
    },
    "kernelspec": {
      "name": "python3",
      "display_name": "Python 3"
    },
    "language_info": {
      "name": "python"
    }
  },
  "cells": [
    {
      "cell_type": "markdown",
      "metadata": {
        "id": "view-in-github",
        "colab_type": "text"
      },
      "source": [
        "<a href=\"https://colab.research.google.com/github/AndrewZinc/Big_Data/blob/main/Stop_Words.ipynb\" target=\"_parent\"><img src=\"https://colab.research.google.com/assets/colab-badge.svg\" alt=\"Open In Colab\"/></a>"
      ]
    },
    {
      "cell_type": "code",
      "execution_count": 2,
      "metadata": {
        "colab": {
          "base_uri": "https://localhost:8080/"
        },
        "id": "W4hNO-h8LD04",
        "outputId": "6c486e6d-e459-40ad-818b-d35b732c229b"
      },
      "outputs": [
        {
          "output_type": "stream",
          "name": "stdout",
          "text": [
            "\r0% [Working]\r            \rHit:1 http://security.ubuntu.com/ubuntu bionic-security InRelease\n",
            "\r0% [Connecting to archive.ubuntu.com (185.125.190.39)] [Connected to cloud.r-pr\r0% [1 InRelease gpgv 88.7 kB] [Connecting to archive.ubuntu.com (185.125.190.39\r                                                                               \rHit:2 https://cloud.r-project.org/bin/linux/ubuntu bionic-cran40/ InRelease\n",
            "\r0% [1 InRelease gpgv 88.7 kB] [Waiting for headers] [Waiting for headers] [Wait\r                                                                               \rHit:3 http://ppa.launchpad.net/c2d4u.team/c2d4u4.0+/ubuntu bionic InRelease\n",
            "\r0% [1 InRelease gpgv 88.7 kB] [Waiting for headers] [Waiting for headers] [Conn\r                                                                               \rIgn:4 https://developer.download.nvidia.com/compute/machine-learning/repos/ubuntu1804/x86_64  InRelease\n",
            "\r0% [1 InRelease gpgv 88.7 kB] [Waiting for headers] [Waiting for headers] [Conn\r                                                                               \rHit:5 https://developer.download.nvidia.com/compute/cuda/repos/ubuntu1804/x86_64  InRelease\n",
            "\r0% [1 InRelease gpgv 88.7 kB] [Waiting for headers] [Connecting to ppa.launchpa\r                                                                               \rHit:6 http://archive.ubuntu.com/ubuntu bionic InRelease\n",
            "Hit:7 https://developer.download.nvidia.com/compute/machine-learning/repos/ubuntu1804/x86_64  Release\n",
            "Hit:8 http://archive.ubuntu.com/ubuntu bionic-updates InRelease\n",
            "Hit:9 http://ppa.launchpad.net/cran/libgit2/ubuntu bionic InRelease\n",
            "Hit:10 http://archive.ubuntu.com/ubuntu bionic-backports InRelease\n",
            "Hit:11 http://ppa.launchpad.net/deadsnakes/ppa/ubuntu bionic InRelease\n",
            "Hit:12 http://ppa.launchpad.net/graphics-drivers/ppa/ubuntu bionic InRelease\n",
            "Reading package lists... Done\n",
            "hello1\n",
            "hello2\n",
            "hello3\n",
            "hello4\n"
          ]
        }
      ],
      "source": [
        "import os\n",
        "# Find the latest version of spark 3.0  from http://www.apache.org/dist/spark/ and enter as the spark version\n",
        "# For example:\n",
        "# spark_version = 'spark-3.0.3'\n",
        "spark_version = 'spark-3.3.1'\n",
        "os.environ['SPARK_VERSION']=spark_version\n",
        "\n",
        "# Install Spark and Java\n",
        "!apt-get update\n",
        "!apt-get install openjdk-11-jdk-headless -qq > /dev/null\n",
        "print('hello1')\n",
        "!wget -q http://www.apache.org/dist/spark/$SPARK_VERSION/$SPARK_VERSION-bin-hadoop3.tgz\n",
        "print('hello2')\n",
        "!tar xf $SPARK_VERSION-bin-hadoop3.tgz\n",
        "print('hello3')\n",
        "!pip install -q findspark\n",
        "\n",
        "# Set Environment Variables\n",
        "import os\n",
        "os.environ[\"JAVA_HOME\"] = \"/usr/lib/jvm/java-11-openjdk-amd64\"\n",
        "os.environ[\"SPARK_HOME\"] = f\"/content/{spark_version}-bin-hadoop3\"\n",
        "\n",
        "# Start a SparkSession\n",
        "import findspark\n",
        "findspark.init()\n",
        "print('hello4')\n",
        "\n",
        "# Start Spark session\n",
        "from pyspark.sql import SparkSession\n",
        "spark = SparkSession.builder.appName(\"StopWords\").getOrCreate()"
      ]
    },
    {
      "cell_type": "code",
      "source": [
        "# Create a sample dataframe\n",
        "\n",
        "sentenceData = spark.createDataFrame([\n",
        "    (0, ['Spark', 'is', 'great']),\n",
        "    (1, ['We', 'are', 'learning', 'about', 'Spark']),\n",
        "    (2, ['Spark', 'is', 'no', 'doubt', 'better', 'than', 'Hadoop'])\n",
        "    ], ['id', 'raw'])\n",
        "\n",
        "sentenceData.show(truncate=False)"
      ],
      "metadata": {
        "colab": {
          "base_uri": "https://localhost:8080/"
        },
        "id": "il15mObxMEKn",
        "outputId": "5f8994ee-7bf9-4862-c352-518f3431d86b"
      },
      "execution_count": 8,
      "outputs": [
        {
          "output_type": "stream",
          "name": "stdout",
          "text": [
            "+---+--------------------------------------------+\n",
            "|id |raw                                         |\n",
            "+---+--------------------------------------------+\n",
            "|0  |[Spark, is, great]                          |\n",
            "|1  |[We, are, learning, about, Spark]           |\n",
            "|2  |[Spark, is, no, doubt, better, than, Hadoop]|\n",
            "+---+--------------------------------------------+\n",
            "\n"
          ]
        }
      ]
    },
    {
      "cell_type": "code",
      "source": [
        "# Import stop words library\n",
        "\n",
        "from pyspark.ml.feature import StopWordsRemover\n",
        "\n",
        "# Run the remover\n",
        "remover = StopWordsRemover(inputCol='raw', outputCol='filtered')\n",
        "\n",
        "# Transform and show the data\n",
        "remover.transform(sentenceData).show(truncate=False)"
      ],
      "metadata": {
        "colab": {
          "base_uri": "https://localhost:8080/"
        },
        "id": "amF0nMg6MEf8",
        "outputId": "dff19453-c4e4-471b-d819-7b2c4a2e7a95"
      },
      "execution_count": 9,
      "outputs": [
        {
          "output_type": "stream",
          "name": "stdout",
          "text": [
            "+---+--------------------------------------------+------------------------------+\n",
            "|id |raw                                         |filtered                      |\n",
            "+---+--------------------------------------------+------------------------------+\n",
            "|0  |[Spark, is, great]                          |[Spark, great]                |\n",
            "|1  |[We, are, learning, about, Spark]           |[learning, Spark]             |\n",
            "|2  |[Spark, is, no, doubt, better, than, Hadoop]|[Spark, doubt, better, Hadoop]|\n",
            "+---+--------------------------------------------+------------------------------+\n",
            "\n"
          ]
        }
      ]
    },
    {
      "cell_type": "code",
      "source": [
        "# Create a sample dataframe\n",
        "\n",
        "df = spark.createDataFrame([\n",
        "    (0, 'Spark is great'),\n",
        "    (1, 'We are learning about Spark'),\n",
        "    (2, 'Spark is no doubt better than Hadoop')\n",
        "    ], ['id', 'sentence'])\n",
        "\n",
        "df.show()"
      ],
      "metadata": {
        "colab": {
          "base_uri": "https://localhost:8080/"
        },
        "id": "8RwhxkVfMEuJ",
        "outputId": "b80da109-3e9d-4160-83a4-f7dcbec9d210"
      },
      "execution_count": 10,
      "outputs": [
        {
          "output_type": "stream",
          "name": "stdout",
          "text": [
            "+---+--------------------+\n",
            "| id|            sentence|\n",
            "+---+--------------------+\n",
            "|  0|      Spark is great|\n",
            "|  1|We are learning a...|\n",
            "|  2|Spark is no doubt...|\n",
            "+---+--------------------+\n",
            "\n"
          ]
        }
      ]
    },
    {
      "cell_type": "code",
      "source": [
        "# Import the tokenizer library\n",
        "from pyspark.ml.feature import Tokenizer\n",
        "\n",
        "# tokenize the sentences\n",
        "tokenizer = Tokenizer(inputCol='sentence', outputCol='words')\n",
        "\n",
        "# Transform and show the DataFrame\n",
        "tokenized_df = tokenizer.transform(df)\n",
        "tokenized_df.show(truncate=False)"
      ],
      "metadata": {
        "colab": {
          "base_uri": "https://localhost:8080/"
        },
        "id": "3GDe5vxrME_M",
        "outputId": "649fde4a-e830-413d-e6dc-1a6e5b9c321d"
      },
      "execution_count": 12,
      "outputs": [
        {
          "output_type": "stream",
          "name": "stdout",
          "text": [
            "+---+------------------------------------+--------------------------------------------+\n",
            "|id |sentence                            |words                                       |\n",
            "+---+------------------------------------+--------------------------------------------+\n",
            "|0  |Spark is great                      |[spark, is, great]                          |\n",
            "|1  |We are learning about Spark         |[we, are, learning, about, spark]           |\n",
            "|2  |Spark is no doubt better than Hadoop|[spark, is, no, doubt, better, than, hadoop]|\n",
            "+---+------------------------------------+--------------------------------------------+\n",
            "\n"
          ]
        }
      ]
    },
    {
      "cell_type": "code",
      "source": [
        "# Run the remover\n",
        "removel = StopWordsRemover(inputCol='words', outputCol='filtere')\n",
        "\n",
        "# Transform and show the data\n",
        "removel.transform(tokenized_df).show(truncate=False)"
      ],
      "metadata": {
        "colab": {
          "base_uri": "https://localhost:8080/"
        },
        "id": "xZnmN1oCMFQq",
        "outputId": "77916510-0358-4521-8c32-8c68ecde96a5"
      },
      "execution_count": 13,
      "outputs": [
        {
          "output_type": "stream",
          "name": "stdout",
          "text": [
            "+---+------------------------------------+--------------------------------------------+------------------------------+\n",
            "|id |sentence                            |words                                       |filtere                       |\n",
            "+---+------------------------------------+--------------------------------------------+------------------------------+\n",
            "|0  |Spark is great                      |[spark, is, great]                          |[spark, great]                |\n",
            "|1  |We are learning about Spark         |[we, are, learning, about, spark]           |[learning, spark]             |\n",
            "|2  |Spark is no doubt better than Hadoop|[spark, is, no, doubt, better, than, hadoop]|[spark, doubt, better, hadoop]|\n",
            "+---+------------------------------------+--------------------------------------------+------------------------------+\n",
            "\n"
          ]
        }
      ]
    },
    {
      "cell_type": "code",
      "source": [],
      "metadata": {
        "id": "Xt0Dp3LgMFgs"
      },
      "execution_count": null,
      "outputs": []
    },
    {
      "cell_type": "code",
      "source": [],
      "metadata": {
        "id": "lk4HtEISMFwe"
      },
      "execution_count": null,
      "outputs": []
    },
    {
      "cell_type": "code",
      "source": [],
      "metadata": {
        "id": "tOJ1nyiaMGBK"
      },
      "execution_count": null,
      "outputs": []
    },
    {
      "cell_type": "code",
      "source": [],
      "metadata": {
        "id": "F6xrpvV0MGRk"
      },
      "execution_count": null,
      "outputs": []
    },
    {
      "cell_type": "code",
      "source": [],
      "metadata": {
        "id": "W-j2rYIrMGhd"
      },
      "execution_count": null,
      "outputs": []
    },
    {
      "cell_type": "code",
      "source": [],
      "metadata": {
        "id": "Zk91FwRKMGwz"
      },
      "execution_count": null,
      "outputs": []
    },
    {
      "cell_type": "code",
      "source": [],
      "metadata": {
        "id": "1oYDap71MHAC"
      },
      "execution_count": null,
      "outputs": []
    },
    {
      "cell_type": "code",
      "source": [],
      "metadata": {
        "id": "RKKQfQS7MHUU"
      },
      "execution_count": null,
      "outputs": []
    }
  ]
}